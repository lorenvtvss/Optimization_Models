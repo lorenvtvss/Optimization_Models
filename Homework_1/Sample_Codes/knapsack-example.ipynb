{
 "cells": [
  {
   "cell_type": "code",
   "execution_count": 189,
   "id": "9079aa59",
   "metadata": {},
   "outputs": [
    {
     "name": "stdout",
     "output_type": "stream",
     "text": [
      "Gurobi Optimizer version 10.0.1 build v10.0.1rc0 (win64)\n",
      "\n",
      "CPU model: 12th Gen Intel(R) Core(TM) i9-12900K, instruction set [SSE2|AVX|AVX2]\n",
      "Thread count: 16 physical cores, 24 logical processors, using up to 24 threads\n",
      "\n",
      "Optimize a model with 1 rows, 500 columns and 500 nonzeros\n",
      "Model fingerprint: 0xbb769fab\n",
      "Variable types: 0 continuous, 500 integer (500 binary)\n",
      "Coefficient statistics:\n",
      "  Matrix range     [1e+00, 1e+01]\n",
      "  Objective range  [1e+00, 1e+01]\n",
      "  Bounds range     [1e+00, 1e+00]\n",
      "  RHS range        [1e+03, 1e+03]\n",
      "Found heuristic solution: objective 1489.0000000\n",
      "Presolve removed 0 rows and 425 columns\n",
      "Presolve time: 0.00s\n",
      "Presolved: 1 rows, 75 columns, 75 nonzeros\n",
      "Variable types: 0 continuous, 75 integer (1 binary)\n",
      "Found heuristic solution: objective 1712.0000000\n",
      "\n",
      "Root relaxation: objective 2.401750e+03, 1 iterations, 0.00 seconds (0.00 work units)\n",
      "\n",
      "    Nodes    |    Current Node    |     Objective Bounds      |     Work\n",
      " Expl Unexpl |  Obj  Depth IntInf | Incumbent    BestBd   Gap | It/Node Time\n",
      "\n",
      "     0     0 2401.75000    0    1 1712.00000 2401.75000  40.3%     -    0s\n",
      "H    0     0                    2401.0000000 2401.75000  0.03%     -    0s\n",
      "     0     0 2401.75000    0    1 2401.00000 2401.75000  0.03%     -    0s\n",
      "\n",
      "Explored 1 nodes (1 simplex iterations) in 0.01 seconds (0.00 work units)\n",
      "Thread count was 24 (of 24 available processors)\n",
      "\n",
      "Solution count 3: 2401 1712 1489 \n",
      "\n",
      "Optimal solution found (tolerance 1.00e-04)\n",
      "Best objective 2.401000000000e+03, best bound 2.401000000000e+03, gap 0.0000%\n",
      "optimal IP objective:  2401.0\n"
     ]
    }
   ],
   "source": [
    "import random\n",
    "import math\n",
    "import numpy as np\n",
    "\n",
    "random.seed(222)\n",
    "\n",
    "import gurobipy as gp\n",
    "from gurobipy import GRB\n",
    "\n",
    "number_of_items=500 \n",
    "max_cost=10\n",
    "max_weight=13\n",
    "rhs_p=0.5\n",
    "\n",
    "#last item \n",
    "use_last_item=0\n",
    "last_item=10000\n",
    "\n",
    "#compare variables IP vs. LP\n",
    "compar_vars=0\n",
    "\n",
    "c=list()\n",
    "w=list()\n",
    "rhs=0\n",
    "\n",
    "for i in range(number_of_items):\n",
    "    c.append(random.randint(1,max_cost)) \n",
    "    w.append(random.randint(1,max_weight-c[i]))\n",
    "    rhs+=w[i]\n",
    "\n",
    "rhs=math.floor(rhs_p*rhs)\n",
    "\n",
    "if(use_last_item==1):\n",
    "    c[number_of_items-1]=last_item\n",
    "    w[number_of_items-1]=last_item-1\n",
    "    rhs=last_item-1\n",
    "\n",
    "\n",
    "# Create IP \n",
    "m = gp.Model()\n",
    "x = m.addVars(number_of_items,vtype=GRB.BINARY)\n",
    "m.setObjective(gp.quicksum(c[i]*x[i] for i in range(number_of_items)), GRB.MAXIMIZE )\n",
    "m.addConstr(gp.quicksum(w[i]*x[i] for i in range(number_of_items)) <= rhs)\n",
    "\n",
    "m.write(\"KnapsackIP.lp\")\n",
    "m.optimize()\n",
    "\n",
    "vars = m.getVars()\n",
    "\n",
    "objIP=m.getObjective()\n",
    "print(\"optimal IP objective: \",objIP.getValue())\n",
    "\n",
    "if(use_last_item==1):\n",
    "    print(\"last item variable: \",vars[number_of_items-1].X)\n",
    "    sum_of_other_variables=0\n",
    "    for i in range(number_of_items-1):\n",
    "        sum_of_other_variables+=vars[i].X\n",
    "    print(\"sum_of_other_variables: \",sum_of_other_variables)\n",
    "    \n"
   ]
  },
  {
   "cell_type": "code",
   "execution_count": 190,
   "id": "db1ea79e",
   "metadata": {},
   "outputs": [
    {
     "name": "stdout",
     "output_type": "stream",
     "text": [
      "Gurobi Optimizer version 10.0.1 build v10.0.1rc0 (win64)\n",
      "\n",
      "CPU model: 12th Gen Intel(R) Core(TM) i9-12900K, instruction set [SSE2|AVX|AVX2]\n",
      "Thread count: 16 physical cores, 24 logical processors, using up to 24 threads\n",
      "\n",
      "Optimize a model with 1 rows, 500 columns and 500 nonzeros\n",
      "Model fingerprint: 0x925bafa5\n",
      "Coefficient statistics:\n",
      "  Matrix range     [1e+00, 1e+01]\n",
      "  Objective range  [1e+00, 1e+01]\n",
      "  Bounds range     [1e+00, 1e+00]\n",
      "  RHS range        [1e+03, 1e+03]\n",
      "Presolve removed 0 rows and 446 columns\n",
      "Presolve time: 0.00s\n",
      "Presolved: 1 rows, 54 columns, 54 nonzeros\n",
      "\n",
      "Iteration    Objective       Primal Inf.    Dual Inf.      Time\n",
      "       0    1.0820000e+04   6.650000e+01   0.000000e+00      0s\n",
      "       1    2.4017500e+03   0.000000e+00   0.000000e+00      0s\n",
      "\n",
      "Solved in 1 iterations and 0.01 seconds (0.00 work units)\n",
      "Optimal objective  2.401750000e+03\n",
      "optimal LP objective:  2401.75\n",
      "ratio of objective LP/IP:  1.0003123698458976\n"
     ]
    }
   ],
   "source": [
    "# Create LP \n",
    "mLP = gp.Model()\n",
    "xLP = mLP.addVars(number_of_items,lb=0,ub=1,vtype=GRB.CONTINUOUS)\n",
    "mLP.setObjective(gp.quicksum(c[i]*xLP[i] for i in range(number_of_items)), GRB.MAXIMIZE )\n",
    "mLP.addConstr(gp.quicksum(w[i]*xLP[i] for i in range(number_of_items)) <= rhs)\n",
    "\n",
    "mLP.write(\"KnapsackLP.lp\")\n",
    "mLP.optimize()\n",
    "\n",
    "objLP=mLP.getObjective()\n",
    "\n",
    "print(\"optimal LP objective: \",objLP.getValue())\n",
    "print(\"ratio of objective LP/IP: \", objLP.getValue()/objIP.getValue())\n",
    "\n",
    "varsLP = mLP.getVars()\n",
    "\n",
    "if(use_last_item==1):\n",
    "    print(\"last item variable: \",varsLP[number_of_items-1].X)\n",
    "    sum_of_other_variables=0\n",
    "    for i in range(number_of_items-1):\n",
    "        sum_of_other_variables+=varsLP[i].X\n",
    "    print(\"sum_of_other_variables: \",sum_of_other_variables)\n",
    "\n",
    "if(compar_vars==1):\n",
    "       for i in range(number_of_items):\n",
    "            if(abs(vars[i].X-varsLP[i].X)>0.0001):\n",
    "                print(\"index: \", i,\" IP: \",vars[i].X,\" LP: \",varsLP[i].X)\n",
    "#                print(\"c: \", c[i],\" w: \",w[i])\n",
    "                \n",
    "\n",
    "\n",
    "    "
   ]
  },
  {
   "cell_type": "code",
   "execution_count": null,
   "id": "2acb89aa",
   "metadata": {},
   "outputs": [],
   "source": []
  },
  {
   "cell_type": "code",
   "execution_count": 179,
   "id": "bee5ad1b",
   "metadata": {},
   "outputs": [
    {
     "data": {
      "text/plain": [
       "0.75"
      ]
     },
     "execution_count": 179,
     "metadata": {},
     "output_type": "execute_result"
    }
   ],
   "source": [
    "x=5+3/4-2-3\n",
    "x"
   ]
  },
  {
   "cell_type": "code",
   "execution_count": null,
   "id": "93167057",
   "metadata": {},
   "outputs": [],
   "source": []
  }
 ],
 "metadata": {
  "kernelspec": {
   "display_name": "Python 3 (ipykernel)",
   "language": "python",
   "name": "python3"
  },
  "language_info": {
   "codemirror_mode": {
    "name": "ipython",
    "version": 3
   },
   "file_extension": ".py",
   "mimetype": "text/x-python",
   "name": "python",
   "nbconvert_exporter": "python",
   "pygments_lexer": "ipython3",
   "version": "3.9.7"
  }
 },
 "nbformat": 4,
 "nbformat_minor": 5
}
